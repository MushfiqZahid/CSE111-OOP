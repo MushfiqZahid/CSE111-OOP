{
  "nbformat": 4,
  "nbformat_minor": 0,
  "metadata": {
    "colab": {
      "provenance": []
    },
    "kernelspec": {
      "name": "python3",
      "display_name": "Python 3"
    },
    "language_info": {
      "name": "python"
    }
  },
  "cells": [
    {
      "cell_type": "code",
      "execution_count": null,
      "metadata": {
        "colab": {
          "base_uri": "https://localhost:8080/"
        },
        "id": "q5cq4OAs8sRt",
        "outputId": "53c4aca4-3ca9-4699-b6ed-2388b735cead"
      },
      "outputs": [
        {
          "output_type": "stream",
          "name": "stdout",
          "text": [
            "Name: default Department: BBA\n",
            "Name: Humpty Dumpty Department: BBA\n",
            "Name: Little Bo Peep Department: BBA\n"
          ]
        }
      ],
      "source": [
        "#Task1:\n",
        "\n",
        "class Student:\n",
        "    def __init__(self, name='Just a student', dept='nothing'):\n",
        "        self.__name = name\n",
        "        self.__department = dept\n",
        "    def set_department(self, dept):\n",
        "        self.__department = dept\n",
        "    def get_name(self):\n",
        "        return self.__name\n",
        "    def set_name(self,name):\n",
        "        self.__name = name\n",
        "    def __str__(self):\n",
        "        return 'Name: '+self.__name+' Department: '+self.__department\n",
        "\n",
        "\n",
        "#write your code here\n",
        "\n",
        "class BBA_Student(Student):\n",
        "  def __init__(self,name='default',dept='BBA'):\n",
        "   super().__init__(name,dept)\n",
        "\n",
        "\n",
        "print(BBA_Student())\n",
        "print(BBA_Student('Humpty Dumpty'))\n",
        "print(BBA_Student('Little Bo Peep'))"
      ]
    },
    {
      "cell_type": "code",
      "source": [
        "#Task2:\n",
        "\n",
        "class Vehicle:\n",
        "    def __init__(self):\n",
        "        self.x = 0\n",
        "        self.y = 0\n",
        "    def moveUp(self):\n",
        "        self.y += 1\n",
        "    def moveDown(self):\n",
        "        self.y -= 1\n",
        "    def moveRight(self):\n",
        "        self.x += 1\n",
        "    def moveLeft(self):\n",
        "        self.x -= 1\n",
        "    def __str__(self):\n",
        "        return '('+str(self.x)+' , '+str(self.y)+')'\n",
        "\n",
        "#write your code here\n",
        "\n",
        "class Vehicle2010(Vehicle):\n",
        "  def moveUpperRight(self):\n",
        "    super().moveUp()\n",
        "    super().moveRight()\n",
        "  \n",
        "  def moveUpperLeft(self):\n",
        "    super().moveUp()\n",
        "    super().moveLeft()\n",
        "  \n",
        "  def moveLowerRight(self):\n",
        "    super().moveDown()\n",
        "    super().moveRight()\n",
        "  \n",
        "  def moveLowerLeft(self):\n",
        "    super().moveDown()\n",
        "    super().moveLeft()\n",
        "  \n",
        "  def equals(self,other):\n",
        "    return self.x==other.x and self.y==other.y\n",
        "\n",
        "print('Part 1')\n",
        "print('------')\n",
        "car = Vehicle()\n",
        "print(car)\n",
        "car.moveUp()\n",
        "print(car)\n",
        "car.moveLeft()\n",
        "print(car)\n",
        "car.moveDown()\n",
        "print(car)\n",
        "car.moveRight()\n",
        "print(car)\n",
        "print('------')\n",
        "print('Part 2')\n",
        "print('------')\n",
        "car1 = Vehicle2010()\n",
        "print(car1)\n",
        "car1.moveLowerLeft()\n",
        "print(car1)\n",
        "car2 = Vehicle2010()\n",
        "car2.moveLeft()\n",
        "print(car1.equals(car2))\n",
        "car2.moveDown()\n",
        "print(car1.equals(car2))"
      ],
      "metadata": {
        "colab": {
          "base_uri": "https://localhost:8080/"
        },
        "id": "Mlgp0e-hIITV",
        "outputId": "a302b04a-5416-4430-a3e4-69765bec45fd"
      },
      "execution_count": null,
      "outputs": [
        {
          "output_type": "stream",
          "name": "stdout",
          "text": [
            "Part 1\n",
            "------\n",
            "(0 , 0)\n",
            "(0 , 1)\n",
            "(-1 , 1)\n",
            "(-1 , 0)\n",
            "(0 , 0)\n",
            "------\n",
            "Part 2\n",
            "------\n",
            "(0 , 0)\n",
            "(-1 , -1)\n",
            "False\n",
            "True\n"
          ]
        }
      ]
    },
    {
      "cell_type": "code",
      "source": [
        "#Task - 3\n",
        "\n",
        "class Tournament:\n",
        "    def __init__(self,name='Default'):\n",
        "        self.__name = name\n",
        "    def set_name(self,name):\n",
        "        self.__name = name\n",
        "    def get_name(self):\n",
        "        return self.__name\n",
        "\n",
        "#write your code here\n",
        "\n",
        "class Cricket_Tournament(Tournament):\n",
        "  def __init__(self,name='Default',num=0,types=\"No type\"):\n",
        "    self.num=num\n",
        "    self.types=types\n",
        "    super().set_name(name)\n",
        "  \n",
        "  def detail(self):\n",
        "    return 'Cricket Tournament Name:'+self.get_name()+'\\n'+'Number of Teams:'+str(self.num)+'\\n'+'Type:'+self.types\n",
        "    \n",
        "    \n",
        "class Tennis_Tournament(Tournament):\n",
        "  def __init__(self,name='Deafult',num=0):\n",
        "    self.num=num\n",
        "    super().set_name(name)\n",
        "  \n",
        "  def detail(self):\n",
        "    return 'Tennis Tournament Name:'+self.get_name()+'\\n'+'Number of Players:'+str(self.num)\n",
        "\n",
        "\n",
        "ct1 = Cricket_Tournament()\n",
        "print(ct1.detail())\n",
        "print(\"-----------------------\")\n",
        "ct2 = Cricket_Tournament(\"IPL\",10,\"t20\")\n",
        "print(ct2.detail())\n",
        "print(\"-----------------------\")\n",
        "tt = Tennis_Tournament(\"Roland Garros\",128)\n",
        "print(tt.detail())\n",
        "\n"
      ],
      "metadata": {
        "colab": {
          "base_uri": "https://localhost:8080/"
        },
        "id": "BDi_fFq9OaKZ",
        "outputId": "eb08d495-61c6-4cad-d721-e998d1343cab"
      },
      "execution_count": null,
      "outputs": [
        {
          "output_type": "stream",
          "name": "stdout",
          "text": [
            "Cricket Tournament Name:Default\n",
            "Number of Teams:0\n",
            "Type:No type\n",
            "-----------------------\n",
            "Cricket Tournament Name:IPL\n",
            "Number of Teams:10\n",
            "Type:t20\n",
            "-----------------------\n",
            "Tennis Tournament Name:Roland Garros\n",
            "Number of Players:128\n"
          ]
        }
      ]
    },
    {
      "cell_type": "code",
      "source": [
        "#TASK_4\n",
        "\n",
        "class Product:\n",
        "    def __init__(self,id, title, price):\n",
        "        self.__id = id\n",
        "        self.__title = title\n",
        "        self.__price = price\n",
        "    def get_id_title_price(self):\n",
        "        return \"ID: \"+str(self.__id)+\" Title: \"+self.__title+ \" Price: \"+str(self.__price)\n",
        "#write your code here\n",
        "\n",
        "class Book(Product):\n",
        "  def __init__(self,id, title, price,isbn,publisher):\n",
        "    super().__init__(id,title,price)\n",
        "    self.isbn=isbn\n",
        "    self.publisher=publisher\n",
        " \n",
        "  def printDetail(self):\n",
        "    return self.get_id_title_price() +\" ISBN: \"+ self.isbn + \" Publisher: \"+self.publisher\n",
        "\n",
        "class CD(Product):\n",
        "  def __init__(self,id, title, price,band,duration,genre):\n",
        "    super().__init__(id,title,price)\n",
        "    self.band=band\n",
        "    self.duration=duration\n",
        "    self.genre=genre\n",
        "\n",
        " \n",
        "  def printDetail(self):\n",
        "    return self.get_id_title_price() +\" Band: \"+self.band+\" Duration: \"+str(self.duration)+\" minutes\"+ \" Genre: \"+self.genre\n",
        "\n",
        "book = Book(1,\"The Alchemist\",500,\"97806\",\"HarperCollins\")\n",
        "print(book.printDetail())\n",
        "print(\"-----------------------\")\n",
        "cd = CD(2,\"Shotto\",300,\"Warfaze\",50,\"Hard Rock\")\n",
        "print(cd.printDetail())\n"
      ],
      "metadata": {
        "colab": {
          "base_uri": "https://localhost:8080/"
        },
        "id": "NymLWcTQX0DJ",
        "outputId": "2edde4e9-5133-47a5-ad6e-c5dee00f4a16"
      },
      "execution_count": null,
      "outputs": [
        {
          "output_type": "stream",
          "name": "stdout",
          "text": [
            "ID: 1 Title: The Alchemist Price: 500 ISBN: 97806 Publisher: HarperCollins\n",
            "-----------------------\n",
            "ID: 2 Title: Shotto Price: 300 Band: Warfaze Duration: 50 minutes Genre: Hard Rock\n"
          ]
        }
      ]
    },
    {
      "cell_type": "code",
      "source": [
        "#TASK5\n",
        "class Animal:   \n",
        "    def __init__(self,sound):\n",
        "        self.__sound = sound\n",
        "        \n",
        "    def makeSound(self):\n",
        "        return self.__sound\n",
        "        \n",
        "\n",
        "\n",
        "class Printer:   \n",
        "    def printSound(self, a):\n",
        "        print(a.makeSound())\n",
        "\n",
        "\n",
        "#write your code here\n",
        "class Dog(Animal):\n",
        "  pass\n",
        "class Cat(Animal):\n",
        "  pass\n",
        "\n",
        "d1 = Dog('bark')\n",
        "c1 = Cat('meow')\n",
        "a1 = Animal('Animal does not make sound')\n",
        "pr = Printer()\n",
        "pr.printSound(a1)\n",
        "pr.printSound(c1)\n",
        "pr.printSound(d1)"
      ],
      "metadata": {
        "colab": {
          "base_uri": "https://localhost:8080/"
        },
        "id": "8CxWJfbKe94E",
        "outputId": "5bd5f6d9-da21-4d53-bcd2-1a67969bf8bf"
      },
      "execution_count": null,
      "outputs": [
        {
          "output_type": "stream",
          "name": "stdout",
          "text": [
            "Animal does not make sound\n",
            "meow\n",
            "bark\n"
          ]
        }
      ]
    },
    {
      "cell_type": "code",
      "source": [
        "#TASK6\n",
        "\n",
        "class Shape:\n",
        "\n",
        "  def __init__(self, name='Default', height=0, base=0):\n",
        "    self.area = 0\n",
        "    self.name = name\n",
        "    self.height = height\n",
        "    self.base = base\n",
        "\n",
        "  def get_height_base(self):\n",
        "    return \"Height: \"+str(self.height)+\", Base: \"+str(self.base)\n",
        "\n",
        "#write your code here\n",
        "class triangle(Shape):\n",
        "  def __init__(self,name='Default',height=0,base=0):\n",
        "    super().__init__(name,height,base)\n",
        "    \n",
        "  def calcArea(self):\n",
        "    self.area=float(0.5*self.height*self.base)\n",
        "\n",
        "  def printDetail(self):\n",
        "    return \"Shape name: \"+ self.name + '\\n'+ self.get_height_base()+ '\\n' + \"Area: \"+str(self.area)\n",
        "\n",
        "class trapezoid(Shape):\n",
        "  def __init__(self, name='Default', height=0, base=0, side_A=0):\n",
        "    super().__init__(name,height,base)\n",
        "    self.side_A = side_A\n",
        "\n",
        "  def calcArea(self):\n",
        "    self.area=float((self.base+self.side_A)/2)*self.height\n",
        "  \n",
        "  def printDetail (self):\n",
        "    return \"Shape name: \"+ self.name + '\\n'+ self.get_height_base()+ '\\n' +\"Side_A: \"+str(self.side_A) + \"Area: \"+ str(self.area)\n",
        "\n",
        "\n",
        "tri_default = triangle()\n",
        "tri_default.calcArea()\n",
        "print(tri_default.printDetail())\n",
        "print('--------------------------')\n",
        "tri = triangle('Triangle', 10, 5)\n",
        "tri.calcArea()\n",
        "print(tri.printDetail())\n",
        "print('---------------------------')\n",
        "trap = trapezoid('Trapezoid', 10, 6, 4)\n",
        "trap.calcArea()\n",
        "print(trap.printDetail())\n"
      ],
      "metadata": {
        "colab": {
          "base_uri": "https://localhost:8080/"
        },
        "id": "kubW3OvFfWkD",
        "outputId": "e09ee578-e9d1-4834-b111-32ed1afbb350"
      },
      "execution_count": null,
      "outputs": [
        {
          "output_type": "stream",
          "name": "stdout",
          "text": [
            "Shape name: Default\n",
            "Height: 0, Base: 0\n",
            "Area: 0.0\n",
            "--------------------------\n",
            "Shape name: Triangle\n",
            "Height: 10, Base: 5\n",
            "Area: 25.0\n",
            "---------------------------\n",
            "Shape name: Trapezoid\n",
            "Height: 10, Base: 6\n",
            "Side_A: 4Area: 50.0\n"
          ]
        }
      ]
    },
    {
      "cell_type": "code",
      "source": [
        "class SportsPerson:\n",
        "  def __init__(self, team_name, name, role):\n",
        "    self.__team = team_name\n",
        "    self.__name = name\n",
        "    self.role = role\n",
        "    self.earning_per_match = 0\n",
        "\n",
        "  def get_name_team(self):\n",
        "    return 'Name: '+self.__name+', Team Name: ' +self.__team\n",
        "\n",
        "#write your code here\n",
        "class Player(SportsPerson):\n",
        "  def __init__(self, team_name, name, role,goal,match):\n",
        "    self.goal=goal\n",
        "    self.match=match\n",
        "    self.ratio=0\n",
        "    super().__init__(team_name, name,role)\n",
        "\n",
        "  def calculate_ratio(self):\n",
        "    self.ratio=float(self.goal/self.match)\n",
        "\n",
        "  def print_details(self):\n",
        "    print (self.get_name_team())\n",
        "    print (\"Team Role:\",self.role)\n",
        "    print (\"Total Goal:\",self.goal,\",\",\"Total Played:\",self.match)\n",
        "    print (\"Goal Ratio:\",self.ratio)\n",
        "    x = (self.goal * 1000) + (self.match * 10)\n",
        "    print (\"Match Earning:\",x,\"k\")\n",
        "\n",
        "class Manager(SportsPerson):\n",
        "  def __init__ (self, name, team_name, role, match):\n",
        "    super().__init__(team_name, name, role)\n",
        "    self.match = match\n",
        "    \n",
        "  def print_details(self):\n",
        "    print (self.get_name_team())\n",
        "    print (\"Team Role:\",self.role)\n",
        "    print (\"Total Win:\",self.match)\n",
        "    x =  self.match * 1000\n",
        "    print (\"Match Earning:\",x,\"k\")\n",
        "\n",
        "\n",
        "player_one = Player('Juventus', 'Ronaldo', 'Striker', 25, 32)\n",
        "player_one.calculate_ratio()\n",
        "player_one.print_details()\n",
        "print('------------------------------------------')\n",
        "manager_one = Manager('Real Madrid', 'Zidane', 'Manager', 25)\n",
        "manager_one.print_details()"
      ],
      "metadata": {
        "colab": {
          "base_uri": "https://localhost:8080/"
        },
        "id": "B9HSYJeBXhyD",
        "outputId": "97a2a77e-68f4-47d4-ab1a-57b70765f67c"
      },
      "execution_count": null,
      "outputs": [
        {
          "output_type": "stream",
          "name": "stdout",
          "text": [
            "Name: Ronaldo, Team Name: Juventus\n",
            "Team Role: Striker\n",
            "Total Goal: 25 , Total Played: 32\n",
            "Goal Ratio: 0.78125\n",
            "Match Earning: 25320 k\n",
            "------------------------------------------\n",
            "Name: Real Madrid, Team Name: Zidane\n",
            "Team Role: Manager\n",
            "Total Win: 25\n",
            "Match Earning: 25000 k\n"
          ]
        }
      ]
    }
  ]
}