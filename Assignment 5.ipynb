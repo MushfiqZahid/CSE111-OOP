{
  "nbformat": 4,
  "nbformat_minor": 0,
  "metadata": {
    "colab": {
      "provenance": []
    },
    "kernelspec": {
      "name": "python3",
      "display_name": "Python 3"
    },
    "language_info": {
      "name": "python"
    }
  },
  "cells": [
    {
      "cell_type": "code",
      "execution_count": null,
      "metadata": {
        "colab": {
          "base_uri": "https://localhost:8080/"
        },
        "id": "u7EJyRSa7vcW",
        "outputId": "8d087941-0dc6-4c9b-ad1b-77e6f3a20d21"
      },
      "outputs": [
        {
          "output_type": "stream",
          "name": "stdout",
          "text": [
            "Quiz 1 (out of 10): 10\n",
            "Quiz 2 (out of 10): 10\n",
            "Lab (out of 30): 30\n",
            "Mid (out of 20): 20\n",
            "Final (out of 30): 30\n",
            "Total marks: 100\n"
          ]
        }
      ],
      "source": [
        "class Exam:\n",
        "  def __init__(self,mark):\n",
        "    self.mark=mark\n",
        "\n",
        "  def __add__(self,other_mark):\n",
        "    self.mark+=other_mark.mark\n",
        "    return self\n",
        "\n",
        "\n",
        "Q1 = Exam(int(input(\"Quiz 1 (out of 10): \")))\n",
        "Q2 = Exam(int(input(\"Quiz 2 (out of 10): \")))\n",
        "Lab = Exam(int(input(\"Lab (out of 30): \")))\n",
        "Mid = Exam(int(input(\"Mid (out of 20): \")))\n",
        "Final = Exam(int(input(\"Final (out of 30): \")))\n",
        "total = Q1 + Q2 + Lab + Mid + Final\n",
        "print(\"Total marks: {}\".format(total.mark))\n"
      ]
    },
    {
      "cell_type": "code",
      "source": [
        "class Coordinates:\n",
        "  def __init__(self,x,y):\n",
        "    self.x=x\n",
        "    self.y=y\n",
        "\n",
        "  def detail(self):\n",
        "    return f'({self.x},{self.y})'\n",
        "\n",
        "  def __sub__(self,other):\n",
        "    return Coordinates(self.x-other.x,self.y-other.y)\n",
        "\n",
        "  def __mul__(self,other):\n",
        "    return Coordinates(self.x*other.x,self.y*other.y)\n",
        "  \n",
        "  def __eq__(self,other):\n",
        "    if self.x==other.x and self.y==other.y:\n",
        "      return f'The calculated coordinates are the same.'\n",
        "    else:\n",
        "      return f'The calculated coordinates are not the same.'\n",
        "\n",
        "p1 = Coordinates(int(input()),int(input()))\n",
        "p2 = Coordinates(int(input()),int(input()))\n",
        "\n",
        "p4 = p1 - p2 \n",
        "print(p4.detail())\n",
        "\n",
        "p5 = p1 * p2\n",
        "print(p5.detail())\n",
        "\n",
        "point_check = (p4 == p5)\n",
        "print(point_check)\n"
      ],
      "metadata": {
        "colab": {
          "base_uri": "https://localhost:8080/"
        },
        "id": "bfl2bCYFByvx",
        "outputId": "9010c496-5f7b-4fa2-8028-8406650ac102"
      },
      "execution_count": null,
      "outputs": [
        {
          "output_type": "stream",
          "name": "stdout",
          "text": [
            "1\n",
            "2\n",
            "3\n",
            "4\n",
            "(-2,-2)\n",
            "(3,8)\n",
            "The calculated coordinates are not the same.\n"
          ]
        }
      ]
    },
    {
      "cell_type": "code",
      "source": [
        "class Teacher:\n",
        "  def __init__(self,n,d):\n",
        "    self .__name=n\n",
        "    self .__dept=d\n",
        "    self .__course=[]\n",
        "\n",
        "  def addCourse(self,course_name):\n",
        "    self .__course.append(course_name.c)\n",
        "\n",
        "\n",
        "  def printDetail(self):\n",
        "    print('====================================')\n",
        "    print(\"Name:\",self.__name)\n",
        "    print(\"Department:\",self.__dept)\n",
        "    print(\"List of courses\")\n",
        "    print('====================================')\n",
        "    for i in self.__course:\n",
        "      print(i)\n",
        "    print('====================================')\n",
        "\n",
        "class Course:\n",
        "  def __init__(self,c):\n",
        "    self.c=c\n",
        "\n",
        "\n",
        "t1 = Teacher(\"Saad Abdullah\", \"CSE\")\n",
        "t2 = Teacher(\"Mumit Khan\", \"CSE\")\n",
        "t3 = Teacher(\"Sadia Kazi\", \"CSE\")                          \n",
        "c1 = Course(\"CSE 110 Programming Language I\")                           \n",
        "c2 = Course(\"CSE 111 Programming Language-II\")                           \n",
        "c3 = Course(\"CSE 220 Data Structures\")                           \n",
        "c4 = Course(\"CSE 221 Algorithms\")                           \n",
        "c5 = Course(\"CCSE 230 Discrete Mathematics\")                           \n",
        "c6 = Course(\"CSE 310 Object Oriented Programming\")                           \n",
        "c7 = Course(\"CSE 320 Data Communications\")                          \n",
        "c8 = Course(\"CSE 340 Computer Architecture\") \n",
        "t1.addCourse(c1)\n",
        "t1.addCourse(c2)\n",
        "t2.addCourse(c3)\n",
        "t2.addCourse(c4)\n",
        "t2.addCourse(c5)\n",
        "t3.addCourse(c6)\n",
        "t3.addCourse(c7)\n",
        "t3.addCourse(c8)\n",
        "t1.printDetail()\n",
        "t2.printDetail()\n",
        "t3.printDetail()\n"
      ],
      "metadata": {
        "colab": {
          "base_uri": "https://localhost:8080/"
        },
        "id": "-m1oIrYZB5KC",
        "outputId": "1ffe931d-bc69-4fe0-a9da-6a811525b8f3"
      },
      "execution_count": null,
      "outputs": [
        {
          "output_type": "stream",
          "name": "stdout",
          "text": [
            "====================================\n",
            "Name: Saad Abdullah\n",
            "Department: CSE\n",
            "List of courses\n",
            "====================================\n",
            "CSE 110 Programming Language I\n",
            "CSE 111 Programming Language-II\n",
            "====================================\n",
            "====================================\n",
            "Name: Mumit Khan\n",
            "Department: CSE\n",
            "List of courses\n",
            "====================================\n",
            "CSE 220 Data Structures\n",
            "CSE 221 Algorithms\n",
            "CCSE 230 Discrete Mathematics\n",
            "====================================\n",
            "====================================\n",
            "Name: Sadia Kazi\n",
            "Department: CSE\n",
            "List of courses\n",
            "====================================\n",
            "CSE 310 Object Oriented Programming\n",
            "CSE 320 Data Communications\n",
            "CSE 340 Computer Architecture\n",
            "====================================\n"
          ]
        }
      ]
    },
    {
      "cell_type": "code",
      "source": [
        "class Circle:\n",
        "  def __init__(self,r):\n",
        "    self.__radius=r\n",
        "  \n",
        "  def getRadius(self):\n",
        "    return self.__radius\n",
        "  \n",
        "  def setRadius(self,radius):\n",
        "    self.__radius=radius\n",
        "    return self\n",
        "\n",
        "  def __add__(self,new):\n",
        "    return Circle(self.__radius+new.__radius)\n",
        "\n",
        "  def area(self):\n",
        "    import math\n",
        "    area = math.pi*(self .__radius**2)\n",
        "    return area\n",
        "\n",
        "\n",
        "c1 = Circle(4)\n",
        "print(\"First circle radius:\" , c1.getRadius())\n",
        "print(\"First circle area:\" ,c1.area())\n",
        " \n",
        "c2 = Circle(5)\n",
        "print(\"Second circle radius:\" ,c2.getRadius())\n",
        "print(\"Second circle area:\" ,c2.area())\n",
        " \n",
        "c3 = c1 + c2 \n",
        "print(\"Third circle radius:\" ,c3.getRadius())\n",
        "print(\"Third circle area:\" ,c3.area())\n"
      ],
      "metadata": {
        "colab": {
          "base_uri": "https://localhost:8080/"
        },
        "id": "NOZjYNuzGtfo",
        "outputId": "5f758c65-b4ec-4724-cc00-b0abbcf4a34d"
      },
      "execution_count": null,
      "outputs": [
        {
          "output_type": "stream",
          "name": "stdout",
          "text": [
            "First circle radius: 4\n",
            "First circle area: 50.26548245743669\n",
            "Second circle radius: 5\n",
            "Second circle area: 78.53981633974483\n",
            "Third circle radius: 9\n",
            "Third circle area: 254.46900494077323\n"
          ]
        }
      ]
    },
    {
      "cell_type": "code",
      "source": [
        "class Color:\n",
        "  def __init__(self,color):\n",
        "    self.clr=color\n",
        "\n",
        "  def __add__(self,other):\n",
        "    if (self.clr=='red' and other.clr=='yellow') or (other.clr=='red' and self.clr=='yellow'):\n",
        "      return Color(\"Orange\")\n",
        "\n",
        "    elif  (self.clr=='red' and other.clr=='yellow') or (other.clr=='red' and self.clr=='yellow'):\n",
        "      return Color(\"Violet\")\n",
        "\n",
        "    elif  (self.clr=='yellow' and other.clr=='blue') or (other.clr=='yellow' and self.clr=='blue'):\n",
        "      return Color(\"Green\")\n",
        "\n",
        "\n",
        "\n",
        "\n",
        "C1 = Color(input(\"First Color: \").lower())\n",
        "C2 = Color(input(\"Second Color: \").lower())\n",
        "C3 = C1 + C2\n",
        "print(\"Color formed:\", C3.clr)\n"
      ],
      "metadata": {
        "colab": {
          "base_uri": "https://localhost:8080/"
        },
        "id": "zB7NQukIPb8N",
        "outputId": "1067cbaf-5613-46c0-ea37-e43e12e6ec6b"
      },
      "execution_count": null,
      "outputs": [
        {
          "output_type": "stream",
          "name": "stdout",
          "text": [
            "First Color: yellow\n",
            "Second Color: BLUE\n",
            "Color formed: Green\n"
          ]
        }
      ]
    },
    {
      "cell_type": "code",
      "source": [
        "class Dolls:\n",
        "  def __init__(self,name,price):\n",
        "    self.name=[]\n",
        "    self.price=price\n",
        "    if type(name)==str:\n",
        "      self.name.append(name)\n",
        "    else:\n",
        "      for i in name:\n",
        "        self.name.append(i)\n",
        "\n",
        "  def __gt__(self,n):\n",
        "    if self.price>n.price:\n",
        "      return True\n",
        "    else:\n",
        "      return False\n",
        "  \n",
        "  def __add__(self,other):\n",
        "    return Dolls(self.name+other.name,self.price+other.price)\n",
        "\n",
        "  def detail(self):\n",
        "    for i in self.name:\n",
        "      #return i\n",
        "      if len(self.name)>1:\n",
        "        return f\"Dolls:{(' ').join(self.name)}\\nTotal Price:{self.price} taka\"\n",
        "      else:\n",
        "        return f\"Doll:{('').join(self.name)}\\nTotal Price:{self.price} taka\"\n",
        "\n",
        "  \n",
        "\n",
        "\n",
        "obj_1 = Dolls(\"Tweety\", 2500)\n",
        "print(obj_1.detail())\n",
        "if obj_1 > obj_1:\n",
        "    print(\"Congratulations! You get the Tweety as a gift!\")\n",
        "else:\n",
        "    print(\"Thank you!\")\n",
        "\n",
        "print(\"=========================\")\n",
        "obj_2 = Dolls(\"Daffy Duck\", 1800) \n",
        "print(obj_2.detail())\n",
        "if obj_2 > obj_1:\n",
        "    print(\"Congratulations! You get the Tweety as a gift!\")\n",
        "else:\n",
        "    print(\"Thank you!\")\n",
        "\n",
        "print(\"=========================\")\n",
        "obj_3 = Dolls(\"Bugs Bunny\", 3000)\n",
        "print(obj_3.detail())\n",
        "if obj_3 > obj_1:\n",
        "    print(\"Congratulations! You get the Tweety as a gift!\")\n",
        "else:\n",
        "    print(\"Thank you!\")\n",
        "\n",
        "print(\"=========================\")\n",
        "obj_4 = Dolls(\"Porky Pig\", 1500)\n",
        "print(obj_4.detail())\n",
        "if obj_4 > obj_1:\n",
        "    print(\"Congratulations! You get the Tweety as a gift!\")\n",
        "else:\n",
        "    print(\"Thank you!\")\n",
        "\n",
        "print(\"=========================\")\n",
        "obj_5 = obj_2 + obj_3\n",
        "print(obj_5.detail())\n",
        "if obj_5 > obj_1:\n",
        "    print(\"Congratulations! You get the Tweety as a gift!\")\n",
        "else:\n",
        "    print(\"Thank you!\")\n"
      ],
      "metadata": {
        "colab": {
          "base_uri": "https://localhost:8080/"
        },
        "id": "XgKOwwZYUJ0X",
        "outputId": "711c088b-9446-4b14-cb58-046198eed228"
      },
      "execution_count": null,
      "outputs": [
        {
          "output_type": "stream",
          "name": "stdout",
          "text": [
            "Doll:Tweety\n",
            "Total Price:2500 taka\n",
            "Thank you!\n",
            "=========================\n",
            "Doll:Daffy Duck\n",
            "Total Price:1800 taka\n",
            "Thank you!\n",
            "=========================\n",
            "Doll:Bugs Bunny\n",
            "Total Price:3000 taka\n",
            "Congratulations! You get the Tweety as a gift!\n",
            "=========================\n",
            "Doll:Porky Pig\n",
            "Total Price:1500 taka\n",
            "Thank you!\n",
            "=========================\n",
            "Dolls:Daffy Duck Bugs Bunny\n",
            "Total Price:4800 taka\n",
            "Congratulations! You get the Tweety as a gift!\n"
          ]
        }
      ]
    },
    {
      "cell_type": "code",
      "source": [
        "class Team:\n",
        "  def __init__(self,name=None):\n",
        "    self.__name=name\n",
        "    self.lst=[]\n",
        "  def setName(self,c):\n",
        "    self.__name=c\n",
        "  def addPlayer(self,newp):\n",
        "    self.lst.append(newp.pname)\n",
        "  def printDetail(self):\n",
        "    print(\"=====================\")\n",
        "    print(\"Team:\",self.__name)\n",
        "    print(\"List of Players:\")\n",
        "    print(self.lst)\n",
        "    print(\"=====================\")\n",
        "    \n",
        "class Player:\n",
        "  def __init__(self,pname):\n",
        "    self.pname=pname\n",
        "\n",
        "\n",
        "\n",
        "b = Team()\n",
        "b.setName('Bangladesh')\n",
        "mashrafi = Player(\"Mashrafi\")\n",
        "b.addPlayer(mashrafi)\n",
        "tamim = Player(\"Tamim\")\n",
        "b.addPlayer(tamim)\n",
        "b.printDetail()\n",
        "a = Team(\"Australia\")\n",
        "ponting = Player(\"Ponting\")\n",
        "a.addPlayer(ponting)\n",
        "lee = Player(\"Lee\")\n",
        "a.addPlayer(lee)\n",
        "a.printDetail()"
      ],
      "metadata": {
        "colab": {
          "base_uri": "https://localhost:8080/"
        },
        "id": "knRxbS1d8mOa",
        "outputId": "0302d1be-9bd6-44fa-9223-59e97556e033"
      },
      "execution_count": null,
      "outputs": [
        {
          "output_type": "stream",
          "name": "stdout",
          "text": [
            "=====================\n",
            "Team: Bangladesh\n",
            "List of Players:\n",
            "['Mashrafi', 'Tamim']\n",
            "=====================\n",
            "=====================\n",
            "Team: Australia\n",
            "List of Players:\n",
            "['Ponting', 'Lee']\n",
            "=====================\n"
          ]
        }
      ]
    },
    {
      "cell_type": "code",
      "source": [
        "class Triangle:\n",
        "  def __init__(self,b,h):\n",
        "    self.__base=b\n",
        "    self.__height=h\n",
        "  def getBase(self):\n",
        "    return self.__base\n",
        "  def setBase(self,base):\n",
        "    self.__base=base\n",
        "    return self\n",
        "  def getHeight(self):\n",
        "    return self.__height\n",
        "  def setHeight(self,height):\n",
        "    self.__height=height\n",
        "    return self\n",
        "  def __sub__(self,other):\n",
        "    x=self.__base-other.__base\n",
        "    y=self.__height-other.__height\n",
        "    return Triangle(x,y)\n",
        "  def area(self):\n",
        "    area=0.5*self.__base*self.__height\n",
        "    return area\n",
        "\n",
        "\n",
        "\n",
        "\n",
        "t1 = Triangle(10, 5)\n",
        "print(\"First Triangle Base:\" , t1.getBase())\n",
        "print(\"First Triangle Height:\" , t1.getHeight())\n",
        "print(\"First Triangle area:\" ,t1.area())\n",
        "t2 = Triangle(5, 3)\n",
        "print(\"Second Triangle Base:\" , t2.getBase())\n",
        "print(\"Second Triangle Height:\" , t2.getHeight())\n",
        "print(\"Second Triangle area:\" ,t2.area())\n",
        "t3 = t1 - t2\n",
        "print(\"Third Triangle Base:\" , t3.getBase())\n",
        "print(\"Third Triangle Height:\" , t3.getHeight())\n",
        "print(\"Third Triangle area:\" ,t3.area())"
      ],
      "metadata": {
        "colab": {
          "base_uri": "https://localhost:8080/"
        },
        "id": "O8gvVCMOAR7v",
        "outputId": "7ad96bbb-e27f-4c17-9b64-24df4ede8a10"
      },
      "execution_count": null,
      "outputs": [
        {
          "output_type": "stream",
          "name": "stdout",
          "text": [
            "First Triangle Base: 10\n",
            "First Triangle Height: 5\n",
            "First Triangle area: 25.0\n",
            "Second Triangle Base: 5\n",
            "Second Triangle Height: 3\n",
            "Second Triangle area: 7.5\n",
            "Third Triangle Base: 5\n",
            "Third Triangle Height: 2\n",
            "Third Triangle area: 5.0\n"
          ]
        }
      ]
    }
  ]
}